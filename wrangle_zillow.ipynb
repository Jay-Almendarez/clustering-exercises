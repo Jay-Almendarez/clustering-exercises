{
 "cells": [
  {
   "cell_type": "code",
   "execution_count": 4,
   "id": "baf787c8-3a88-4bb0-9fbc-9e7ff4b8e847",
   "metadata": {
    "tags": []
   },
   "outputs": [],
   "source": [
    "import pandas as pd\n",
    "import numpy as np\n",
    "import env\n",
    "import os\n",
    "from sklearn.model_selection import train_test_split\n",
    "from wrangle_zillow import acquire_zillow\n",
    "import warnings\n",
    "warnings.filterwarnings(\"ignore\")"
   ]
  },
  {
   "cell_type": "markdown",
   "id": "70121058-9266-4f30-86b1-43abfc4a9f0a",
   "metadata": {},
   "source": [
    "# Exercises"
   ]
  },
  {
   "cell_type": "markdown",
   "id": "c52454a6-36d1-4679-b460-53f83baa6f14",
   "metadata": {},
   "source": [
    "## Acquire and Summarize"
   ]
  },
  {
   "cell_type": "markdown",
   "id": "2e0dda85-1d43-4012-b585-574a99f1eedd",
   "metadata": {},
   "source": [
    "### Acquire data from the cloud database.\n",
    "You will want to end with a single dataframe. Include the logerror field and all other fields related to the properties that are available. You will end up using all the tables in the database.\n",
    "\n",
    "Be sure to do the correct join (inner, outer, etc.). We do not want to eliminate properties purely because they may have a null value for airconditioningtypeid. - Only include properties with a transaction in 2017, and include only the last transaction for each property (so no duplicate property ID's), along with zestimate error and date of transaction. (Hint: read the docs for the .duplicated method) - Only include properties that have a latitude and longitude value."
   ]
  },
  {
   "cell_type": "code",
   "execution_count": 5,
   "id": "5675fb97-c420-4200-9dfb-0670340b3848",
   "metadata": {
    "tags": []
   },
   "outputs": [
    {
     "data": {
      "text/html": [
       "<div>\n",
       "<style scoped>\n",
       "    .dataframe tbody tr th:only-of-type {\n",
       "        vertical-align: middle;\n",
       "    }\n",
       "\n",
       "    .dataframe tbody tr th {\n",
       "        vertical-align: top;\n",
       "    }\n",
       "\n",
       "    .dataframe thead th {\n",
       "        text-align: right;\n",
       "    }\n",
       "</style>\n",
       "<table border=\"1\" class=\"dataframe\">\n",
       "  <thead>\n",
       "    <tr style=\"text-align: right;\">\n",
       "      <th></th>\n",
       "      <th>parcelid</th>\n",
       "      <th>typeconstructiontypeid</th>\n",
       "      <th>storytypeid</th>\n",
       "      <th>propertylandusetypeid</th>\n",
       "      <th>heatingorsystemtypeid</th>\n",
       "      <th>buildingclasstypeid</th>\n",
       "      <th>architecturalstyletypeid</th>\n",
       "      <th>airconditioningtypeid</th>\n",
       "      <th>id</th>\n",
       "      <th>basementsqft</th>\n",
       "      <th>...</th>\n",
       "      <th>airconditioningdesc</th>\n",
       "      <th>architecturalstyledesc</th>\n",
       "      <th>buildingclassdesc</th>\n",
       "      <th>heatingorsystemdesc</th>\n",
       "      <th>propertylandusedesc</th>\n",
       "      <th>storydesc</th>\n",
       "      <th>typeconstructiondesc</th>\n",
       "      <th>id.1</th>\n",
       "      <th>logerror</th>\n",
       "      <th>transactiondate</th>\n",
       "    </tr>\n",
       "  </thead>\n",
       "  <tbody>\n",
       "    <tr>\n",
       "      <th>0</th>\n",
       "      <td>14297519</td>\n",
       "      <td>NaN</td>\n",
       "      <td>NaN</td>\n",
       "      <td>261.0</td>\n",
       "      <td>NaN</td>\n",
       "      <td>NaN</td>\n",
       "      <td>NaN</td>\n",
       "      <td>NaN</td>\n",
       "      <td>1727539</td>\n",
       "      <td>NaN</td>\n",
       "      <td>...</td>\n",
       "      <td>NaN</td>\n",
       "      <td>NaN</td>\n",
       "      <td>NaN</td>\n",
       "      <td>NaN</td>\n",
       "      <td>Single Family Residential</td>\n",
       "      <td>NaN</td>\n",
       "      <td>NaN</td>\n",
       "      <td>0</td>\n",
       "      <td>0.025595</td>\n",
       "      <td>2017-01-01</td>\n",
       "    </tr>\n",
       "    <tr>\n",
       "      <th>1</th>\n",
       "      <td>17052889</td>\n",
       "      <td>NaN</td>\n",
       "      <td>NaN</td>\n",
       "      <td>261.0</td>\n",
       "      <td>NaN</td>\n",
       "      <td>NaN</td>\n",
       "      <td>NaN</td>\n",
       "      <td>NaN</td>\n",
       "      <td>1387261</td>\n",
       "      <td>NaN</td>\n",
       "      <td>...</td>\n",
       "      <td>NaN</td>\n",
       "      <td>NaN</td>\n",
       "      <td>NaN</td>\n",
       "      <td>NaN</td>\n",
       "      <td>Single Family Residential</td>\n",
       "      <td>NaN</td>\n",
       "      <td>NaN</td>\n",
       "      <td>1</td>\n",
       "      <td>0.055619</td>\n",
       "      <td>2017-01-01</td>\n",
       "    </tr>\n",
       "    <tr>\n",
       "      <th>2</th>\n",
       "      <td>14186244</td>\n",
       "      <td>NaN</td>\n",
       "      <td>NaN</td>\n",
       "      <td>261.0</td>\n",
       "      <td>NaN</td>\n",
       "      <td>NaN</td>\n",
       "      <td>NaN</td>\n",
       "      <td>NaN</td>\n",
       "      <td>11677</td>\n",
       "      <td>NaN</td>\n",
       "      <td>...</td>\n",
       "      <td>NaN</td>\n",
       "      <td>NaN</td>\n",
       "      <td>NaN</td>\n",
       "      <td>NaN</td>\n",
       "      <td>Single Family Residential</td>\n",
       "      <td>NaN</td>\n",
       "      <td>NaN</td>\n",
       "      <td>2</td>\n",
       "      <td>0.005383</td>\n",
       "      <td>2017-01-01</td>\n",
       "    </tr>\n",
       "    <tr>\n",
       "      <th>3</th>\n",
       "      <td>12177905</td>\n",
       "      <td>NaN</td>\n",
       "      <td>NaN</td>\n",
       "      <td>261.0</td>\n",
       "      <td>2.0</td>\n",
       "      <td>NaN</td>\n",
       "      <td>NaN</td>\n",
       "      <td>NaN</td>\n",
       "      <td>2288172</td>\n",
       "      <td>NaN</td>\n",
       "      <td>...</td>\n",
       "      <td>NaN</td>\n",
       "      <td>NaN</td>\n",
       "      <td>NaN</td>\n",
       "      <td>Central</td>\n",
       "      <td>Single Family Residential</td>\n",
       "      <td>NaN</td>\n",
       "      <td>NaN</td>\n",
       "      <td>3</td>\n",
       "      <td>-0.103410</td>\n",
       "      <td>2017-01-01</td>\n",
       "    </tr>\n",
       "    <tr>\n",
       "      <th>4</th>\n",
       "      <td>10887214</td>\n",
       "      <td>NaN</td>\n",
       "      <td>NaN</td>\n",
       "      <td>266.0</td>\n",
       "      <td>2.0</td>\n",
       "      <td>NaN</td>\n",
       "      <td>NaN</td>\n",
       "      <td>1.0</td>\n",
       "      <td>1970746</td>\n",
       "      <td>NaN</td>\n",
       "      <td>...</td>\n",
       "      <td>Central</td>\n",
       "      <td>NaN</td>\n",
       "      <td>NaN</td>\n",
       "      <td>Central</td>\n",
       "      <td>Condominium</td>\n",
       "      <td>NaN</td>\n",
       "      <td>NaN</td>\n",
       "      <td>4</td>\n",
       "      <td>0.006940</td>\n",
       "      <td>2017-01-01</td>\n",
       "    </tr>\n",
       "  </tbody>\n",
       "</table>\n",
       "<p>5 rows × 69 columns</p>\n",
       "</div>"
      ],
      "text/plain": [
       "   parcelid  typeconstructiontypeid  storytypeid  propertylandusetypeid  \\\n",
       "0  14297519                     NaN          NaN                  261.0   \n",
       "1  17052889                     NaN          NaN                  261.0   \n",
       "2  14186244                     NaN          NaN                  261.0   \n",
       "3  12177905                     NaN          NaN                  261.0   \n",
       "4  10887214                     NaN          NaN                  266.0   \n",
       "\n",
       "   heatingorsystemtypeid  buildingclasstypeid  architecturalstyletypeid  \\\n",
       "0                    NaN                  NaN                       NaN   \n",
       "1                    NaN                  NaN                       NaN   \n",
       "2                    NaN                  NaN                       NaN   \n",
       "3                    2.0                  NaN                       NaN   \n",
       "4                    2.0                  NaN                       NaN   \n",
       "\n",
       "   airconditioningtypeid       id  basementsqft  ...  airconditioningdesc  \\\n",
       "0                    NaN  1727539           NaN  ...                  NaN   \n",
       "1                    NaN  1387261           NaN  ...                  NaN   \n",
       "2                    NaN    11677           NaN  ...                  NaN   \n",
       "3                    NaN  2288172           NaN  ...                  NaN   \n",
       "4                    1.0  1970746           NaN  ...              Central   \n",
       "\n",
       "   architecturalstyledesc  buildingclassdesc  heatingorsystemdesc  \\\n",
       "0                     NaN                NaN                  NaN   \n",
       "1                     NaN                NaN                  NaN   \n",
       "2                     NaN                NaN                  NaN   \n",
       "3                     NaN                NaN              Central   \n",
       "4                     NaN                NaN              Central   \n",
       "\n",
       "         propertylandusedesc  storydesc  typeconstructiondesc  id.1  logerror  \\\n",
       "0  Single Family Residential        NaN                   NaN     0  0.025595   \n",
       "1  Single Family Residential        NaN                   NaN     1  0.055619   \n",
       "2  Single Family Residential        NaN                   NaN     2  0.005383   \n",
       "3  Single Family Residential        NaN                   NaN     3 -0.103410   \n",
       "4                Condominium        NaN                   NaN     4  0.006940   \n",
       "\n",
       "   transactiondate  \n",
       "0       2017-01-01  \n",
       "1       2017-01-01  \n",
       "2       2017-01-01  \n",
       "3       2017-01-01  \n",
       "4       2017-01-01  \n",
       "\n",
       "[5 rows x 69 columns]"
      ]
     },
     "execution_count": 5,
     "metadata": {},
     "output_type": "execute_result"
    }
   ],
   "source": [
    "df = acquire_zillow()\n",
    "df.head()"
   ]
  },
  {
   "cell_type": "code",
   "execution_count": 42,
   "id": "da4361b8-4f4a-48dc-a685-59e9de45bcb9",
   "metadata": {
    "tags": []
   },
   "outputs": [
    {
     "data": {
      "text/plain": [
       "id\n",
       "1968735     True\n",
       "1925856     True\n",
       "709378      True\n",
       "616260      True\n",
       "950579      True\n",
       "           ...  \n",
       "1318130    False\n",
       "2188978    False\n",
       "1584716    False\n",
       "1487496    False\n",
       "1187175    False\n",
       "Name: count, Length: 77381, dtype: bool"
      ]
     },
     "execution_count": 42,
     "metadata": {},
     "output_type": "execute_result"
    }
   ],
   "source": [
    "df['id'].value_counts()>1"
   ]
  },
  {
   "cell_type": "markdown",
   "id": "689a0f4e-cf85-4497-9f63-14ef504c179f",
   "metadata": {},
   "source": [
    "### Summarize your data (summary stats, info, dtypes, shape, distributions, value_counts, etc.)"
   ]
  },
  {
   "cell_type": "markdown",
   "id": "0fdb48df-e0f5-4343-bd13-762ba8da03a7",
   "metadata": {
    "tags": []
   },
   "source": [
    "### Write a function that takes in a dataframe of observations and attributes and returns a dataframe where each row is an atttribute name, the first column is the number of rows with missing values for that attribute, and the second column is percent of total rows that have missing values for that attribute. Run the function and document takeaways from this on how you want to handle missing values.\n",
    "\n",
    "The output should look like the table below:\n",
    "\n",
    "\t \t\t\t\tnum_rows_missing\t\tpct_rows_missing\n",
    "\tparcelid\t\t\t0\t\t\t\t0.000000\n",
    "\tairconditioningtypeid\t\t29041\t\t\t\t0.535486\n",
    "\tarchitecturalstyletypeid\t54232\t\t\t\t0.999982"
   ]
  },
  {
   "cell_type": "markdown",
   "id": "22e74b5b-d40a-487e-9a00-1385517769e7",
   "metadata": {},
   "source": [
    "## Prepare\n",
    "\n",
    "### Remove any properties that are likely to be something other than single unit properties. (e.g. no duplexes, no land/lot, ...). There are multiple ways to estimate that a property is a single unit, and there is not a single \"right\" answer."
   ]
  },
  {
   "cell_type": "code",
   "execution_count": null,
   "id": "98756b47-8702-4324-bcd9-ed59137124c8",
   "metadata": {},
   "outputs": [],
   "source": [
    "df[df.propertylandusedesc == 'Single Family Residential']"
   ]
  },
  {
   "cell_type": "markdown",
   "id": "4298e3f4-b444-49a5-bd2e-1662e95f39a9",
   "metadata": {},
   "source": [
    "###  Create a function that will drop rows or columns based on the percent of values that are missing: handle_missing_values(df, prop_required_column, prop_required_row).\n",
    "- The input:\n",
    "  - A dataframe\n",
    "  - A number between 0 and 1 that represents the proportion, for each column, of rows with non-missing values required to keep the column. i.e. if prop_required_column = .6, then you are requiring a column to have at least 60% of values not-NA (no more than 40% missing).\n",
    "  - A number between 0 and 1 that represents the proportion, for each row, of columns/variables with non-missing values required to keep the row. For example, if prop_required_row = .75, then you are requiring a row to have at least 75% of variables with a non-missing value (no more that 25% missing).\n",
    "- The output:\n",
    "  - The dataframe with the columns and rows dropped as indicated. Be sure to drop the columns prior to the rows in your function.\n",
    "- hint:\n",
    "  - Look up the dropna documentation.\n",
    "  - You will want to compute a threshold from your input values (prop_required) and total number of rows or columns."
   ]
  },
  {
   "cell_type": "markdown",
   "id": "1a13c237-e76d-43b8-8b89-3c7fc6d4ab8c",
   "metadata": {},
   "source": [
    "### Encapsulate your work inside of functions in a wrangle_zillow.py module."
   ]
  }
 ],
 "metadata": {
  "kernelspec": {
   "display_name": "Python 3 (ipykernel)",
   "language": "python",
   "name": "python3"
  },
  "language_info": {
   "codemirror_mode": {
    "name": "ipython",
    "version": 3
   },
   "file_extension": ".py",
   "mimetype": "text/x-python",
   "name": "python",
   "nbconvert_exporter": "python",
   "pygments_lexer": "ipython3",
   "version": "3.11.3"
  }
 },
 "nbformat": 4,
 "nbformat_minor": 5
}
